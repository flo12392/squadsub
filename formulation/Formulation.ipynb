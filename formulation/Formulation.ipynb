{
 "cells": [
  {
   "cell_type": "code",
   "execution_count": 1,
   "metadata": {},
   "outputs": [
    {
     "data": {
      "application/javascript": [
       "MathJax.Hub.Config({\n",
       "    TeX: { equationNumbers: { autoNumber: \"AMS\" } }\n",
       "});"
      ],
      "text/plain": [
       "<IPython.core.display.Javascript object>"
      ]
     },
     "metadata": {},
     "output_type": "display_data"
    }
   ],
   "source": [
    "%%javascript\n",
    "MathJax.Hub.Config({\n",
    "    TeX: { equationNumbers: { autoNumber: \"AMS\" } }\n",
    "});"
   ]
  },
  {
   "cell_type": "markdown",
   "metadata": {},
   "source": [
    "First, define the following variables and parameters:\n",
    "\n",
    "- $x_{pqw}$ is equal to $1$ if player $p$ plays at position $q$ during timewindow $w$, and $0$ otherwise.\n",
    "- $a_{pq}$ is the competence level of player $p$ for playing at position $q$\n",
    "- $P$ is the set of players\n",
    "- $Q$ is the set of positions\n",
    "- $W$ is the set of time windows\n",
    "- $T_{1} = \\lfloor \\frac{|W| * |Q|}{|P|} \\rfloor$, the minimum number of time windows a player should be on the pitch\n",
    "- $T_{2} = \\lceil \\frac{|W| * |Q|}{|P|} \\rceil$, the maximum number of time windows a player should be on the pitch\n",
    "- $m$ is the minimum number of time windows a player should be on the pitch between subsequent substitutions"
   ]
  },
  {
   "cell_type": "markdown",
   "metadata": {},
   "source": [
    "\\begin{equation}\n",
    "max \\sum_{p \\in P} \\sum_{q \\in Q} \\sum_{w \\in W} a_{pq} * x_{pqw} \n",
    "\\end{equation}\n",
    "\n",
    "$$subject \\; to$$ \n",
    "\n",
    "\\begin{equation}\n",
    "\\sum_{q \\in Q} x_{pqw} \\le 1,  \\; \\forall p \\in P, \\forall w \\in W\n",
    "\\end{equation}\n",
    "\n",
    "\\begin{equation}\n",
    "\\sum_{p \\in P} x_{pqw} = 1,  \\; \\forall q \\in Q, \\forall w \\in W\n",
    "\\end{equation}\n",
    "\n",
    "\\begin{equation}\n",
    "x_{pq^{*}w} + \\sum_{q \\in Q, q \\ne q^{*}} x_{pqw+1} \\le 1, \\; \\forall p \\in P, \\forall q^{*} \\in Q, \\forall w \\in \\{1,2, \\dots, {|W|-1}\\} \n",
    "\\end{equation}\n",
    "\n",
    "\\begin{equation}\n",
    "\\sum_{w \\in W} \\sum_{q \\in Q} x_{pqw} \\ge T_{1},  \\; \\forall p \\in P\n",
    "\\end{equation}\n",
    "\n",
    "\\begin{equation}\n",
    "\\sum_{w \\in W} \\sum_{q \\in Q} x_{pqw} \\le T_{2},  \\; \\forall p \\in P\n",
    "\\end{equation}\n",
    "\n",
    "\n",
    "\\begin{equation}\n",
    "\\sum_{y \\in \\{0,1,\\dots,m\\}} \\sum_{q \\in Q} x_{pqw+y} \\ge m,  \\; \\forall p \\in P, \\forall w \\in \\{1,2,\\dots,|W|-m\\}\n",
    "\\end{equation}\n",
    "\n",
    "\\begin{equation}\n",
    "x_{pqw} \\in \\{0,1\\}, \\; \\forall p \\in P, \\forall q \\in Q, \\forall w \\in W\n",
    "\\end{equation}"
   ]
  },
  {
   "cell_type": "markdown",
   "metadata": {},
   "source": [
    "Here, The objective function $(1)$ maximizes the sum of the skills of players that are on the pitch each time window. Constraint $(2)$ ensures that every player occupies at most one position during every time window, i.e. they are either on the pitch or they are a substitute. Constraint $(3)$ states that every position should be filled by exactly one player during every time window. Furthermore, Constraint $(4)$ prohibits players from changing positions on the pitch in subsequent time windows; a player can only play on another position if he is substituted in between. Constraints $(5)$ and $(6)$ aim to balance the amount of times each player is substituted. Constraint $(7)$ ensures that there is a minimum amount of time windows between subsequent substitutions of a single player. Lastly, Constraint $(8)$ states that the $x$-variables can only take binary values.\n"
   ]
  },
  {
   "cell_type": "code",
   "execution_count": null,
   "metadata": {
    "collapsed": true
   },
   "outputs": [],
   "source": []
  }
 ],
 "metadata": {
  "kernelspec": {
   "display_name": "Python 3",
   "language": "python",
   "name": "python3"
  },
  "language_info": {
   "codemirror_mode": {
    "name": "ipython",
    "version": 3
   },
   "file_extension": ".py",
   "mimetype": "text/x-python",
   "name": "python",
   "nbconvert_exporter": "python",
   "pygments_lexer": "ipython3",
   "version": "3.6.3"
  }
 },
 "nbformat": 4,
 "nbformat_minor": 2
}
